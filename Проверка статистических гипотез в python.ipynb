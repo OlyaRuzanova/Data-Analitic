{
 "cells": [
  {
   "cell_type": "code",
   "execution_count": 2,
   "id": "97b4b2a1",
   "metadata": {},
   "outputs": [],
   "source": [
    "import pandas as pd\n",
    "import numpy as np\n",
    "import seaborn as sns\n",
    "import matplotlib.pyplot as plt\n",
    "import datetime as dt\n",
    "from scipy.stats import ttest_ind"
   ]
  },
  {
   "cell_type": "code",
   "execution_count": 3,
   "id": "49ce9e48",
   "metadata": {},
   "outputs": [
    {
     "data": {
      "text/html": [
       "<div>\n",
       "<style scoped>\n",
       "    .dataframe tbody tr th:only-of-type {\n",
       "        vertical-align: middle;\n",
       "    }\n",
       "\n",
       "    .dataframe tbody tr th {\n",
       "        vertical-align: top;\n",
       "    }\n",
       "\n",
       "    .dataframe thead th {\n",
       "        text-align: right;\n",
       "    }\n",
       "</style>\n",
       "<table border=\"1\" class=\"dataframe\">\n",
       "  <thead>\n",
       "    <tr style=\"text-align: right;\">\n",
       "      <th></th>\n",
       "      <th>id_order</th>\n",
       "      <th>animal</th>\n",
       "      <th>species</th>\n",
       "      <th>check</th>\n",
       "    </tr>\n",
       "  </thead>\n",
       "  <tbody>\n",
       "    <tr>\n",
       "      <th>0</th>\n",
       "      <td>3645743</td>\n",
       "      <td>Кошка</td>\n",
       "      <td>Уличная</td>\n",
       "      <td>35124</td>\n",
       "    </tr>\n",
       "    <tr>\n",
       "      <th>1</th>\n",
       "      <td>3645744</td>\n",
       "      <td>Кошка</td>\n",
       "      <td>Домашняя обыкновенная</td>\n",
       "      <td>30789</td>\n",
       "    </tr>\n",
       "    <tr>\n",
       "      <th>2</th>\n",
       "      <td>3645745</td>\n",
       "      <td>Собака</td>\n",
       "      <td>Уличная</td>\n",
       "      <td>30386</td>\n",
       "    </tr>\n",
       "    <tr>\n",
       "      <th>3</th>\n",
       "      <td>3645745</td>\n",
       "      <td>Собака</td>\n",
       "      <td>Домашняя обыкновенная</td>\n",
       "      <td>33967</td>\n",
       "    </tr>\n",
       "    <tr>\n",
       "      <th>4</th>\n",
       "      <td>3645746</td>\n",
       "      <td>Собака</td>\n",
       "      <td>Домашняя обыкновенная</td>\n",
       "      <td>57745</td>\n",
       "    </tr>\n",
       "  </tbody>\n",
       "</table>\n",
       "</div>"
      ],
      "text/plain": [
       "   id_order  animal                species  check\n",
       "0   3645743   Кошка                Уличная  35124\n",
       "1   3645744   Кошка  Домашняя обыкновенная  30789\n",
       "2   3645745  Собака                Уличная  30386\n",
       "3   3645745  Собака  Домашняя обыкновенная  33967\n",
       "4   3645746  Собака  Домашняя обыкновенная  57745"
      ]
     },
     "execution_count": 3,
     "metadata": {},
     "output_type": "execute_result"
    }
   ],
   "source": [
    "df = pd.read_excel('Домашнее задание (исходник).xlsx')\n",
    "\n",
    "df.head()"
   ]
  },
  {
   "cell_type": "code",
   "execution_count": 4,
   "id": "1bb6ca3a",
   "metadata": {},
   "outputs": [
    {
     "data": {
      "text/html": [
       "<div>\n",
       "<style scoped>\n",
       "    .dataframe tbody tr th:only-of-type {\n",
       "        vertical-align: middle;\n",
       "    }\n",
       "\n",
       "    .dataframe tbody tr th {\n",
       "        vertical-align: top;\n",
       "    }\n",
       "\n",
       "    .dataframe thead th {\n",
       "        text-align: right;\n",
       "    }\n",
       "</style>\n",
       "<table border=\"1\" class=\"dataframe\">\n",
       "  <thead>\n",
       "    <tr style=\"text-align: right;\">\n",
       "      <th></th>\n",
       "      <th>animal</th>\n",
       "      <th>species</th>\n",
       "      <th>cnt_obs</th>\n",
       "      <th>check_mean</th>\n",
       "    </tr>\n",
       "  </thead>\n",
       "  <tbody>\n",
       "    <tr>\n",
       "      <th>0</th>\n",
       "      <td>Кошка</td>\n",
       "      <td>Домашняя обыкновенная</td>\n",
       "      <td>1037</td>\n",
       "      <td>26252.648987</td>\n",
       "    </tr>\n",
       "    <tr>\n",
       "      <th>1</th>\n",
       "      <td>Кошка</td>\n",
       "      <td>Домашняя породистая</td>\n",
       "      <td>375</td>\n",
       "      <td>27404.896000</td>\n",
       "    </tr>\n",
       "    <tr>\n",
       "      <th>2</th>\n",
       "      <td>Кошка</td>\n",
       "      <td>Уличная</td>\n",
       "      <td>598</td>\n",
       "      <td>24168.826087</td>\n",
       "    </tr>\n",
       "    <tr>\n",
       "      <th>3</th>\n",
       "      <td>Собака</td>\n",
       "      <td>Домашняя обыкновенная</td>\n",
       "      <td>920</td>\n",
       "      <td>26733.493478</td>\n",
       "    </tr>\n",
       "    <tr>\n",
       "      <th>4</th>\n",
       "      <td>Собака</td>\n",
       "      <td>Домашняя породистая</td>\n",
       "      <td>249</td>\n",
       "      <td>20443.963855</td>\n",
       "    </tr>\n",
       "    <tr>\n",
       "      <th>5</th>\n",
       "      <td>Собака</td>\n",
       "      <td>Уличная</td>\n",
       "      <td>774</td>\n",
       "      <td>25679.635659</td>\n",
       "    </tr>\n",
       "    <tr>\n",
       "      <th>6</th>\n",
       "      <td>Экзотическое животное</td>\n",
       "      <td>Экзотическое животное</td>\n",
       "      <td>893</td>\n",
       "      <td>28748.667413</td>\n",
       "    </tr>\n",
       "  </tbody>\n",
       "</table>\n",
       "</div>"
      ],
      "text/plain": [
       "                  animal                species  cnt_obs    check_mean\n",
       "0                  Кошка  Домашняя обыкновенная     1037  26252.648987\n",
       "1                  Кошка    Домашняя породистая      375  27404.896000\n",
       "2                  Кошка                Уличная      598  24168.826087\n",
       "3                 Собака  Домашняя обыкновенная      920  26733.493478\n",
       "4                 Собака    Домашняя породистая      249  20443.963855\n",
       "5                 Собака                Уличная      774  25679.635659\n",
       "6  Экзотическое животное  Экзотическое животное      893  28748.667413"
      ]
     },
     "execution_count": 4,
     "metadata": {},
     "output_type": "execute_result"
    }
   ],
   "source": [
    "df_gr = df.groupby(['animal', 'species']).agg(cnt_obs = ('id_order', 'count'), \n",
    "                        check_mean = ('check', 'mean')).reset_index()\n",
    "\n",
    "\n",
    "df_gr.head(10)\n"
   ]
  },
  {
   "cell_type": "code",
   "execution_count": 41,
   "id": "5304ebba",
   "metadata": {},
   "outputs": [
    {
     "name": "stdout",
     "output_type": "stream",
     "text": [
      "-0.76575957286536\n",
      "0.4865081225716277\n",
      "Средний чек по кошкам больше, чем по собакам, так как значение параметра s отрицательное, т.е. df1<df2\n"
     ]
    }
   ],
   "source": [
    "# Ответьте на следующие вопросы, используя функцию ttest_ind:\n",
    "\n",
    "# 1) Какой средний чек выше - по собакам или по кошкам?\n",
    "\n",
    "df1 = df_gr[df_gr['animal']=='Собака']['check_mean']\n",
    "df2 = df_gr[df_gr['animal']=='Кошка']['check_mean']\n",
    "\n",
    "s, p = ttest_ind(df1, df2)\n",
    "print(s)\n",
    "print(p)\n",
    "\n",
    "print('Средний чек по кошкам больше, чем по собакам, так как значение параметра s отрицательное, т.е. df1<df2')"
   ]
  },
  {
   "cell_type": "code",
   "execution_count": 40,
   "id": "e81916eb",
   "metadata": {},
   "outputs": [
    {
     "name": "stdout",
     "output_type": "stream",
     "text": [
      "-1.1474058256766142\n",
      "0.36995086109030406\n",
      "Средний чек по экзотическим животным больше, чем по собакам, так как значение параметра s отрицательное, т.е. df1<df2\n"
     ]
    }
   ],
   "source": [
    "# 2) Какой средний чек выше - по экзотическим животным или по собакам?\n",
    "\n",
    "df1 = df_gr[df_gr['animal']=='Собака']['check_mean']\n",
    "df2 = df_gr[df_gr['animal']=='Экзотическое животное']['check_mean']\n",
    "\n",
    "s, p = ttest_ind(df1, df2)\n",
    "print(s)\n",
    "print(p)\n",
    "\n",
    "print('Средний чек по экзотическим животным больше, чем по собакам, так как значение параметра s отрицательное, т.е. df1<df2')"
   ]
  },
  {
   "cell_type": "code",
   "execution_count": 39,
   "id": "aefa6273",
   "metadata": {},
   "outputs": [
    {
     "name": "stdout",
     "output_type": "stream",
     "text": [
      "-1.4818270574562618\n",
      "0.2765816183056047\n",
      "Средний чек по экзотическим животным больше, чем по кошкам, так как значение параметра s отрицательное, т.е. df1<df2\n"
     ]
    }
   ],
   "source": [
    "# 3) Какой средний чек выше - по экзотическим животным или по кошкам?\n",
    "\n",
    "df1 = df_gr[df_gr['animal']=='Кошка']['check_mean']\n",
    "df2 = df_gr[df_gr['animal']=='Экзотическое животное']['check_mean']\n",
    "\n",
    "s, p = ttest_ind(df1, df2)\n",
    "print(s)\n",
    "print(p)\n",
    "\n",
    "print('Средний чек по экзотическим животным больше, чем по кошкам, так как значение параметра s отрицательное, т.е. df1<df2')\n",
    " "
   ]
  },
  {
   "cell_type": "code",
   "execution_count": 37,
   "id": "c6e4ea86",
   "metadata": {},
   "outputs": [
    {
     "name": "stdout",
     "output_type": "stream",
     "text": [
      "Домашняя обыкновенная_s = -0.33229740456905527\n",
      "Домашняя обыкновенная_p = 0.739700323305123\n",
      "Домашняя породистая_s = 2.649066644872549\n",
      "Домашняя породистая_p = 0.008276435629101226\n",
      "Уличная_s = -0.8581304194510694\n",
      "Уличная_p = 0.3909705531378621\n",
      "В сегменте \"Домашняя породистая\" средний чек по кошкам больше, чем по собакам, так как только в этом сигменте s положительная\n"
     ]
    }
   ],
   "source": [
    "# 4) Существуют ли сегменты (разбиение по породе), в рамках которых средний чек по кошкам больше, чем по собакам?\n",
    "\n",
    "df_cats = df[df['animal']=='Кошка']\n",
    "df_dogs = df[df['animal']=='Собака']\n",
    "\n",
    "\n",
    "s_1, p_1 = ttest_ind(df_cats[df_cats['species']=='Домашняя обыкновенная']['check'],df_dogs[df_dogs['species']=='Домашняя обыкновенная']['check'])\n",
    "print('Домашняя обыкновенная_s =', s_1)\n",
    "print('Домашняя обыкновенная_p =', p_1) \n",
    "\n",
    "s_2, p_2 = ttest_ind(df_cats[df_cats['species']=='Домашняя породистая']['check'],df_dogs[df_dogs['species']=='Домашняя породистая']['check'])\n",
    "print('Домашняя породистая_s =', s_2)\n",
    "print('Домашняя породистая_p =', p_2) \n",
    "\n",
    "s_3, p_3 = ttest_ind(df_cats[df_cats['species']=='Уличная']['check'],df_dogs[df_dogs['species']=='Уличная']['check'])\n",
    "print('Уличная_s =', s_3)\n",
    "print('Уличная_p =', p_3) \n",
    "\n",
    "#############\n",
    "\n",
    "print('В сегменте \"Домашняя породистая\" средний чек по кошкам больше, чем по собакам, так как только в этом сигменте s положительная')\n",
    "\n"
   ]
  },
  {
   "cell_type": "code",
   "execution_count": 36,
   "id": "e430bf01",
   "metadata": {},
   "outputs": [
    {
     "name": "stdout",
     "output_type": "stream",
     "text": [
      "-0.03794224240262271\n",
      "0.969753976784219\n",
      "Средний чек по экзотическим животным больше, чем по домашним породистым кошкам, так как значение параметра s отрицательное\n"
     ]
    }
   ],
   "source": [
    "# 5) Какой средний чек выше - по экзотическим животным или по домашним породистым кошкам?\n",
    "\n",
    "df1 = df_cats[df_cats['species']=='Домашняя породистая']['check']\n",
    "df2 = df_gr[df_gr['animal']=='Экзотическое животное']['check_mean']\n",
    "\n",
    "s, p = ttest_ind(df1, df2)\n",
    "print(s)\n",
    "print(p)\n",
    "\n",
    "######\n",
    "\n",
    "print('Средний чек по экзотическим животным больше, чем по домашним породистым кошкам, так как значение параметра s отрицательное')"
   ]
  },
  {
   "cell_type": "code",
   "execution_count": null,
   "id": "db1f9c18",
   "metadata": {},
   "outputs": [],
   "source": []
  },
  {
   "cell_type": "code",
   "execution_count": null,
   "id": "64bbc0ee",
   "metadata": {},
   "outputs": [],
   "source": []
  }
 ],
 "metadata": {
  "kernelspec": {
   "display_name": "Python 3 (ipykernel)",
   "language": "python",
   "name": "python3"
  },
  "language_info": {
   "codemirror_mode": {
    "name": "ipython",
    "version": 3
   },
   "file_extension": ".py",
   "mimetype": "text/x-python",
   "name": "python",
   "nbconvert_exporter": "python",
   "pygments_lexer": "ipython3",
   "version": "3.11.5"
  }
 },
 "nbformat": 4,
 "nbformat_minor": 5
}
